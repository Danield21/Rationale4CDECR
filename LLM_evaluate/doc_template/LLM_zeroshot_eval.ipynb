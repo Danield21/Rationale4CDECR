{
 "cells": [
  {
   "cell_type": "code",
   "execution_count": 13,
   "metadata": {},
   "outputs": [],
   "source": [
    "import pandas as pd\n",
    "from scorer import *"
   ]
  },
  {
   "cell_type": "code",
   "execution_count": 14,
   "metadata": {},
   "outputs": [],
   "source": [
    "def make_clusters(model_map):\n",
    "    all_clusters=[]\n",
    "    model_map_df=pd.DataFrame({'m_id':model_map.keys(),'c_id':model_map.values()})\n",
    "    model_map_group=model_map_df.groupby('c_id')\n",
    "    cluster_id_list=list(set(model_map_df['c_id']))\n",
    "    for cluster_id in cluster_id_list:\n",
    "        all_mentions_id=list(model_map_group.get_group(cluster_id)['m_id'])\n",
    "        all_clusters.append(all_mentions_id)\n",
    "    return all_clusters\n",
    "\n",
    "def reshape_map(clusters):\n",
    "    modified_map={}\n",
    "    for cl in clusters:\n",
    "        for m_id in cl:\n",
    "            modified_map[m_id]=cl[0]\n",
    "    return modified_map\n",
    "\n",
    "def calculate_coref_metric(model_clusters,gold_clusters,gold_map,model_map):\n",
    "    #muc\n",
    "    m_pn,m_pd = muc(model_clusters, gold_map)\n",
    "    m_rn, m_rd = muc(gold_clusters, model_map)\n",
    "    m_f1=f1(m_pn, m_pd, m_rn, m_rd, beta=1)\n",
    "    print(\"muc\")\n",
    "    print(\"Recall: {:.6f} Precision: {:.6f} F1 {:.6f}\".format(m_rn/m_rd,m_pn/m_pd,m_f1))\n",
    "    #b_cubed\n",
    "    b_pn,b_pd = b_cubed(model_clusters, gold_map)\n",
    "    b_rn, b_rd = b_cubed(gold_clusters, model_map)\n",
    "    b_f1=f1(b_pn, b_pd, b_rn, b_rd, beta=1)\n",
    "    print(\"b_cubed\")\n",
    "    print(\"Recall: {:.6f} Precision: {:.6f} F1 {:.6f}\".format(b_rn/b_rd,b_pn/b_pd,b_f1)) \n",
    "    #ceafe\n",
    "    c_pn, c_pd, c_rn, c_rd=ceafe(model_clusters,gold_clusters)\n",
    "    c_f1=f1(c_pn, c_pd, c_rn, c_rd, beta=1)\n",
    "    print('ceafe')\n",
    "    print(\"Recall: {:.6f} Precision: {:.6f} F1 {:.6f} \".format(c_rn/c_rd,c_pn/c_pd,c_f1))\n",
    "    #lea\n",
    "    l_pn, l_pd = lea(model_clusters, gold_clusters,model_map)\n",
    "    l_rn, l_rd = lea(gold_clusters, model_clusters,gold_map)\n",
    "    l_f1=f1(l_pn, l_pd, l_rn, l_rd, beta=1)\n",
    "    print('lea')\n",
    "    print(\"Recall: {:.6f} Precision: {:.6f} F1 {:.6f} \".format(l_rn/l_rd,l_pn/l_pd,l_f1))\n",
    "    #conll\n",
    "    conll_f1=(1/3)*(m_f1+b_f1+c_f1)\n",
    "    print('CoNLL F1 {:.6}'.format(conll_f1))\n",
    "\n",
    "def llm_eval(model_map_path, gold_map_path):\n",
    "    '''\n",
    "    Parameters:\n",
    "        model_map_path: the path to the mapping from the ECR system\n",
    "        gold_map_path: the path to the mapping from the corpus\n",
    "    Outputs:\n",
    "        model_cluster: the predicted mention clustering result from ECR system\n",
    "        gold_cluster: the golden mention clustering result from the corpus\n",
    "    '''\n",
    "    model_map = pd.read_pickle(model_map_path)\n",
    "    model_cluster = make_clusters(model_map)\n",
    "    reformat_model_map = reshape_map(model_cluster) # To align with the format of gold_map\n",
    "    gold_map = pd.read_pickle(gold_map_path)\n",
    "    gold_cluster = make_clusters(gold_map)\n",
    "    calculate_coref_metric(model_cluster,gold_cluster,gold_map,reformat_model_map)\n",
    "    return model_cluster, gold_cluster"
   ]
  },
  {
   "cell_type": "code",
   "execution_count": 19,
   "metadata": {},
   "outputs": [
    {
     "name": "stdout",
     "output_type": "stream",
     "text": [
      "muc\n",
      "Recall: 0.389744 Precision: 0.617886 F1 0.477987\n",
      "b_cubed\n",
      "Recall: 0.516015 Precision: 0.762954 F1 0.615646\n",
      "ceafe\n",
      "Recall: 0.649777 Precision: 0.579901 F1 0.612853 \n",
      "lea\n",
      "Recall: 0.650000 Precision: 0.783125 F1 0.710379 \n",
      "CoNLL F1 0.568829\n"
     ]
    }
   ],
   "source": [
    "# Eval zero_shot Claude-2\n",
    "prompt_type = 'zero_shot'\n",
    "model_name = 'claude2'\n",
    "model_map_path =  f'./{prompt_type}/model_map/{model_name}_model_map'\n",
    "gold_map_path = './golden_annotation/gold_map'\n",
    "claude_model_cluster, claude_gold_cluster = llm_eval(model_map_path, gold_map_path)"
   ]
  },
  {
   "cell_type": "code",
   "execution_count": 20,
   "metadata": {},
   "outputs": [
    {
     "name": "stdout",
     "output_type": "stream",
     "text": [
      "muc\n",
      "Recall: 0.735385 Precision: 0.734631 F1 0.735008\n",
      "b_cubed\n",
      "Recall: 0.798464 Precision: 0.678220 F1 0.733446\n",
      "ceafe\n",
      "Recall: 0.624168 Precision: 0.637633 F1 0.630829 \n",
      "lea\n",
      "Recall: 0.650000 Precision: 0.863946 F1 0.741856 \n",
      "CoNLL F1 0.699761\n"
     ]
    }
   ],
   "source": [
    "# Eval zero_shot GPT-4\n",
    "prompt_type = 'zero_shot'\n",
    "model_name = 'gpt4'\n",
    "model_map_path =  f'./{prompt_type}/model_map/{model_name}_model_map'\n",
    "gold_map_path = './golden_annotation/gold_map'\n",
    "gpt_model_cluster, gpt_gold_cluster = llm_eval(model_map_path, gold_map_path)"
   ]
  }
 ],
 "metadata": {
  "kernelspec": {
   "display_name": "MLBD",
   "language": "python",
   "name": "python3"
  },
  "language_info": {
   "codemirror_mode": {
    "name": "ipython",
    "version": 3
   },
   "file_extension": ".py",
   "mimetype": "text/x-python",
   "name": "python",
   "nbconvert_exporter": "python",
   "pygments_lexer": "ipython3",
   "version": "3.8.16"
  }
 },
 "nbformat": 4,
 "nbformat_minor": 2
}
