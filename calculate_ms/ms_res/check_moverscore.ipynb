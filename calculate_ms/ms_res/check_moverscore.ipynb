{
 "cells": [
  {
   "cell_type": "code",
   "execution_count": 1,
   "metadata": {},
   "outputs": [
    {
     "data": {
      "text/plain": [
       "array([0.48720429, 0.48856412, 0.48629309, ..., 0.51807751, 0.49106202,\n",
       "       0.49385252])"
      ]
     },
     "execution_count": 1,
     "metadata": {},
     "output_type": "execute_result"
    }
   ],
   "source": [
    "import pandas as pd\n",
    "import numpy as np\n",
    "CAD_ms = pd.read_pickle('./CAD/moverscore_results')\n",
    "CAD_ms"
   ]
  },
  {
   "cell_type": "code",
   "execution_count": 2,
   "metadata": {},
   "outputs": [
    {
     "data": {
      "text/plain": [
       "array([0.61892357, 0.86139672, 0.68110076, ..., 0.64204062, 0.64828168,\n",
       "       0.66983279])"
      ]
     },
     "execution_count": 2,
     "metadata": {},
     "output_type": "execute_result"
    }
   ],
   "source": [
    "CIA_ms = pd.read_pickle('./CIA/moverscore_results')\n",
    "CIA_ms"
   ]
  },
  {
   "cell_type": "code",
   "execution_count": 3,
   "metadata": {},
   "outputs": [
    {
     "data": {
      "text/plain": [
       "28400"
      ]
     },
     "execution_count": 3,
     "metadata": {},
     "output_type": "execute_result"
    }
   ],
   "source": [
    "len(CAD_ms)"
   ]
  },
  {
   "cell_type": "code",
   "execution_count": 3,
   "metadata": {},
   "outputs": [
    {
     "data": {
      "text/plain": [
       "28566"
      ]
     },
     "execution_count": 3,
     "metadata": {},
     "output_type": "execute_result"
    }
   ],
   "source": [
    "len(CIA_ms)"
   ]
  },
  {
   "cell_type": "code",
   "execution_count": 8,
   "metadata": {},
   "outputs": [
    {
     "data": {
      "text/html": [
       "<div>\n",
       "<style scoped>\n",
       "    .dataframe tbody tr th:only-of-type {\n",
       "        vertical-align: middle;\n",
       "    }\n",
       "\n",
       "    .dataframe tbody tr th {\n",
       "        vertical-align: top;\n",
       "    }\n",
       "\n",
       "    .dataframe thead th {\n",
       "        text-align: right;\n",
       "    }\n",
       "</style>\n",
       "<table border=\"1\" class=\"dataframe\">\n",
       "  <thead>\n",
       "    <tr style=\"text-align: right;\">\n",
       "      <th></th>\n",
       "      <th>index</th>\n",
       "      <th>text_1</th>\n",
       "      <th>text_2</th>\n",
       "      <th>trigger_1_abs_start</th>\n",
       "      <th>trigger_1_abs_end</th>\n",
       "      <th>trigger_2_abs_start</th>\n",
       "      <th>trigger_2_abs_end</th>\n",
       "      <th>total_tokens_num</th>\n",
       "      <th>label</th>\n",
       "      <th>trigger_1</th>\n",
       "      <th>trigger_2</th>\n",
       "    </tr>\n",
       "  </thead>\n",
       "  <tbody>\n",
       "    <tr>\n",
       "      <th>0</th>\n",
       "      <td>0</td>\n",
       "      <td>Esther Williams - Esther Williams : \"Million D...</td>\n",
       "      <td>Esther Williams , Olympic swimmer turned actre...</td>\n",
       "      <td>30</td>\n",
       "      <td>30</td>\n",
       "      <td>136</td>\n",
       "      <td>136</td>\n",
       "      <td>173</td>\n",
       "      <td>1.0</td>\n",
       "      <td>died</td>\n",
       "      <td>died</td>\n",
       "    </tr>\n",
       "    <tr>\n",
       "      <th>1</th>\n",
       "      <td>0</td>\n",
       "      <td>Esther Williams - Esther Williams : \"Million D...</td>\n",
       "      <td>Esther Williams , Olympic swimmer turned actre...</td>\n",
       "      <td>24</td>\n",
       "      <td>25</td>\n",
       "      <td>135</td>\n",
       "      <td>135</td>\n",
       "      <td>172</td>\n",
       "      <td>0.0</td>\n",
       "      <td>passed away</td>\n",
       "      <td>died</td>\n",
       "    </tr>\n",
       "    <tr>\n",
       "      <th>2</th>\n",
       "      <td>0</td>\n",
       "      <td>Esther Williams - Esther Williams : \"Million D...</td>\n",
       "      <td>Esther Williams , Olympic swimmer turned actre...</td>\n",
       "      <td>23</td>\n",
       "      <td>23</td>\n",
       "      <td>136</td>\n",
       "      <td>136</td>\n",
       "      <td>173</td>\n",
       "      <td>0.0</td>\n",
       "      <td>departed</td>\n",
       "      <td>died</td>\n",
       "    </tr>\n",
       "    <tr>\n",
       "      <th>3</th>\n",
       "      <td>1</td>\n",
       "      <td>Game slips away late as Jaguars fall to Indy L...</td>\n",
       "      <td>Chiefs lose 20 - 13 to a fourth quarter Indian...</td>\n",
       "      <td>0</td>\n",
       "      <td>0</td>\n",
       "      <td>91</td>\n",
       "      <td>91</td>\n",
       "      <td>144</td>\n",
       "      <td>0.0</td>\n",
       "      <td>Game</td>\n",
       "      <td>stampede</td>\n",
       "    </tr>\n",
       "    <tr>\n",
       "      <th>4</th>\n",
       "      <td>1</td>\n",
       "      <td>In the fourth quarter , the Colts surged and m...</td>\n",
       "      <td>Chiefs lose 20 - 13 to a fourth quarter Indian...</td>\n",
       "      <td>7</td>\n",
       "      <td>7</td>\n",
       "      <td>100</td>\n",
       "      <td>100</td>\n",
       "      <td>153</td>\n",
       "      <td>1.0</td>\n",
       "      <td>surged</td>\n",
       "      <td>stampede</td>\n",
       "    </tr>\n",
       "    <tr>\n",
       "      <th>...</th>\n",
       "      <td>...</td>\n",
       "      <td>...</td>\n",
       "      <td>...</td>\n",
       "      <td>...</td>\n",
       "      <td>...</td>\n",
       "      <td>...</td>\n",
       "      <td>...</td>\n",
       "      <td>...</td>\n",
       "      <td>...</td>\n",
       "      <td>...</td>\n",
       "      <td>...</td>\n",
       "    </tr>\n",
       "    <tr>\n",
       "      <th>42844</th>\n",
       "      <td>14403</td>\n",
       "      <td>With a 20-point performance last night , Hansb...</td>\n",
       "      <td>Top-ranked North Carolina waited for Tyler Han...</td>\n",
       "      <td>11</td>\n",
       "      <td>11</td>\n",
       "      <td>92</td>\n",
       "      <td>92</td>\n",
       "      <td>201</td>\n",
       "      <td>1.0</td>\n",
       "      <td>course</td>\n",
       "      <td>program</td>\n",
       "    </tr>\n",
       "    <tr>\n",
       "      <th>42845</th>\n",
       "      <td>14403</td>\n",
       "      <td>Hansbrough 's record-breaking performance last...</td>\n",
       "      <td>Top-ranked North Carolina waited for Tyler Han...</td>\n",
       "      <td>27</td>\n",
       "      <td>27</td>\n",
       "      <td>90</td>\n",
       "      <td>90</td>\n",
       "      <td>199</td>\n",
       "      <td>1.0</td>\n",
       "      <td>plan</td>\n",
       "      <td>program</td>\n",
       "    </tr>\n",
       "    <tr>\n",
       "      <th>42846</th>\n",
       "      <td>14404</td>\n",
       "      <td>The judge should know to never ever trust a gn...</td>\n",
       "      <td>That ’ s exactly what LiLo ’ s lawyer Mark Hel...</td>\n",
       "      <td>102</td>\n",
       "      <td>102</td>\n",
       "      <td>250</td>\n",
       "      <td>250</td>\n",
       "      <td>274</td>\n",
       "      <td>0.0</td>\n",
       "      <td>walked</td>\n",
       "      <td>spent</td>\n",
       "    </tr>\n",
       "    <tr>\n",
       "      <th>42847</th>\n",
       "      <td>14404</td>\n",
       "      <td>In court, LiLo's lawyer, Mark Heller, lied to ...</td>\n",
       "      <td>That ’ s exactly what LiLo ’ s lawyer Mark Hel...</td>\n",
       "      <td>55</td>\n",
       "      <td>55</td>\n",
       "      <td>172</td>\n",
       "      <td>172</td>\n",
       "      <td>196</td>\n",
       "      <td>1.0</td>\n",
       "      <td>used</td>\n",
       "      <td>spent</td>\n",
       "    </tr>\n",
       "    <tr>\n",
       "      <th>42848</th>\n",
       "      <td>14404</td>\n",
       "      <td>In court, LiLo's lawyer, Mark Heller, lied to ...</td>\n",
       "      <td>That ’ s exactly what LiLo ’ s lawyer Mark Hel...</td>\n",
       "      <td>57</td>\n",
       "      <td>57</td>\n",
       "      <td>172</td>\n",
       "      <td>172</td>\n",
       "      <td>196</td>\n",
       "      <td>1.0</td>\n",
       "      <td>consumed</td>\n",
       "      <td>spent</td>\n",
       "    </tr>\n",
       "  </tbody>\n",
       "</table>\n",
       "<p>42849 rows × 11 columns</p>\n",
       "</div>"
      ],
      "text/plain": [
       "       index                                             text_1  \\\n",
       "0          0  Esther Williams - Esther Williams : \"Million D...   \n",
       "1          0  Esther Williams - Esther Williams : \"Million D...   \n",
       "2          0  Esther Williams - Esther Williams : \"Million D...   \n",
       "3          1  Game slips away late as Jaguars fall to Indy L...   \n",
       "4          1  In the fourth quarter , the Colts surged and m...   \n",
       "...      ...                                                ...   \n",
       "42844  14403  With a 20-point performance last night , Hansb...   \n",
       "42845  14403  Hansbrough 's record-breaking performance last...   \n",
       "42846  14404  The judge should know to never ever trust a gn...   \n",
       "42847  14404  In court, LiLo's lawyer, Mark Heller, lied to ...   \n",
       "42848  14404  In court, LiLo's lawyer, Mark Heller, lied to ...   \n",
       "\n",
       "                                                  text_2  trigger_1_abs_start  \\\n",
       "0      Esther Williams , Olympic swimmer turned actre...                   30   \n",
       "1      Esther Williams , Olympic swimmer turned actre...                   24   \n",
       "2      Esther Williams , Olympic swimmer turned actre...                   23   \n",
       "3      Chiefs lose 20 - 13 to a fourth quarter Indian...                    0   \n",
       "4      Chiefs lose 20 - 13 to a fourth quarter Indian...                    7   \n",
       "...                                                  ...                  ...   \n",
       "42844  Top-ranked North Carolina waited for Tyler Han...                   11   \n",
       "42845  Top-ranked North Carolina waited for Tyler Han...                   27   \n",
       "42846  That ’ s exactly what LiLo ’ s lawyer Mark Hel...                  102   \n",
       "42847  That ’ s exactly what LiLo ’ s lawyer Mark Hel...                   55   \n",
       "42848  That ’ s exactly what LiLo ’ s lawyer Mark Hel...                   57   \n",
       "\n",
       "       trigger_1_abs_end  trigger_2_abs_start  trigger_2_abs_end  \\\n",
       "0                     30                  136                136   \n",
       "1                     25                  135                135   \n",
       "2                     23                  136                136   \n",
       "3                      0                   91                 91   \n",
       "4                      7                  100                100   \n",
       "...                  ...                  ...                ...   \n",
       "42844                 11                   92                 92   \n",
       "42845                 27                   90                 90   \n",
       "42846                102                  250                250   \n",
       "42847                 55                  172                172   \n",
       "42848                 57                  172                172   \n",
       "\n",
       "       total_tokens_num  label    trigger_1 trigger_2  \n",
       "0                   173    1.0         died      died  \n",
       "1                   172    0.0  passed away      died  \n",
       "2                   173    0.0     departed      died  \n",
       "3                   144    0.0         Game  stampede  \n",
       "4                   153    1.0       surged  stampede  \n",
       "...                 ...    ...          ...       ...  \n",
       "42844               201    1.0       course   program  \n",
       "42845               199    1.0         plan   program  \n",
       "42846               274    0.0       walked     spent  \n",
       "42847               196    1.0         used     spent  \n",
       "42848               196    1.0     consumed     spent  \n",
       "\n",
       "[42849 rows x 11 columns]"
      ]
     },
     "execution_count": 8,
     "metadata": {},
     "output_type": "execute_result"
    }
   ],
   "source": [
    "CAD = pd.read_csv('../CAD.csv', index_col=0).reset_index()\n",
    "CAD"
   ]
  },
  {
   "cell_type": "code",
   "execution_count": 9,
   "metadata": {},
   "outputs": [],
   "source": [
    "del CAD['index']"
   ]
  },
  {
   "cell_type": "code",
   "execution_count": 11,
   "metadata": {},
   "outputs": [],
   "source": [
    "CAD.to_csv('../CAD.csv')"
   ]
  },
  {
   "cell_type": "code",
   "execution_count": 6,
   "metadata": {},
   "outputs": [
    {
     "name": "stdout",
     "output_type": "stream",
     "text": [
      "[0.48720429 0.48856412 0.48629309 0.48805842 0.48778326 0.48912393\n",
      " 0.51247714 0.51111071 0.51096554 0.51640545]\n"
     ]
    }
   ],
   "source": [
    "print(CAD_ms[0:10])"
   ]
  }
 ],
 "metadata": {
  "kernelspec": {
   "display_name": "MLBD",
   "language": "python",
   "name": "python3"
  },
  "language_info": {
   "codemirror_mode": {
    "name": "ipython",
    "version": 3
   },
   "file_extension": ".py",
   "mimetype": "text/x-python",
   "name": "python",
   "nbconvert_exporter": "python",
   "pygments_lexer": "ipython3",
   "version": "3.8.16"
  }
 },
 "nbformat": 4,
 "nbformat_minor": 2
}
