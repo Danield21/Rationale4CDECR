{
 "cells": [
  {
   "cell_type": "code",
   "execution_count": 4,
   "metadata": {},
   "outputs": [],
   "source": [
    "import pandas as pd\n",
    "from utils import coref_avg_lexical_similarity\n",
    "ecb_ORI = pd.read_csv('retrieved_data/ablation_study/ORI.csv',index_col=0) \n",
    "ecb_CAD = pd.read_csv('retrieved_data/ablation_study/CAD.csv',index_col=0) \n",
    "ecb_CIA = pd.read_csv('retrieved_data/ablation_study/CIA.csv',index_col=0) \n",
    "ecb_TIA = pd.read_csv('retrieved_data/ablation_study/TIA.csv',index_col=0) \n",
    "ecb_TCAD = pd.read_csv('retrieved_data/ablation_study/TCAD.csv',index_col=0) \n",
    "ecb_bef = pd.read_csv('retrieved_data/main_exp/ecb/train/baseline/train_bef.csv', index_col=0)\n",
    "ecb_aug = pd.read_csv('retrieved_data/main_exp/ecb/train/enhanced/train_aug.csv', index_col=0)\n"
   ]
  },
  {
   "cell_type": "code",
   "execution_count": 59,
   "metadata": {},
   "outputs": [
    {
     "name": "stdout",
     "output_type": "stream",
     "text": [
      "Avg triggers lexical similarity for ORI coreferential cases is: 78.27, lexically-similar ones takes 70.01%.\n",
      "Avg triggers lexical similarity for CAD coreferential cases is: 40.60, lexically-similar ones takes 19.94%.\n",
      "Avg triggers lexical similarity for CIA coreferential cases is: 40.60, lexically-similar ones takes 19.94%.\n",
      "Avg triggers lexical similarity for TIA coreferential cases is: 93.84, lexically-similar ones takes 91.39%.\n",
      "Avg triggers lexical similarity for TCAD coreferential cases is: 40.60, lexically-similar ones takes 19.94%.\n",
      "Avg triggers lexical similarity for baseline coreferential cases is: 71.01, lexically-similar ones takes 60.68%.\n",
      "Avg triggers lexical similarity for enhanced coreferential cases is: 46.56, lexically-similar ones takes 27.84%.\n"
     ]
    }
   ],
   "source": [
    "ecb_ORI = coref_avg_lexical_similarity(ecb_ORI, 'ORI')\n",
    "ecb_CAD = coref_avg_lexical_similarity(ecb_CAD, 'CAD')\n",
    "ecb_CIA = coref_avg_lexical_similarity(ecb_CIA, 'CIA')\n",
    "ecb_TIA = coref_avg_lexical_similarity(ecb_TIA, 'TIA')\n",
    "ecb_TCAD = coref_avg_lexical_similarity(ecb_TCAD, 'TCAD')\n",
    "#-----#\n",
    "ecb_bef = coref_avg_lexical_similarity(ecb_bef, 'baseline')\n",
    "ecb_aug = coref_avg_lexical_similarity(ecb_aug, 'enhanced')\n"
   ]
  }
 ],
 "metadata": {
  "kernelspec": {
   "display_name": "MLBD",
   "language": "python",
   "name": "python3"
  },
  "language_info": {
   "codemirror_mode": {
    "name": "ipython",
    "version": 3
   },
   "file_extension": ".py",
   "mimetype": "text/x-python",
   "name": "python",
   "nbconvert_exporter": "python",
   "pygments_lexer": "ipython3",
   "version": "3.8.16"
  }
 },
 "nbformat": 4,
 "nbformat_minor": 2
}
